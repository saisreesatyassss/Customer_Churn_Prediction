{
 "cells": [
  {
   "cell_type": "code",
   "execution_count": 97,
   "id": "b3602b3c-5563-4a5e-b60e-cde22b9838d0",
   "metadata": {},
   "outputs": [
    {
     "name": "stdout",
     "output_type": "stream",
     "text": [
      "Collecting imblearn\n",
      "  Downloading imblearn-0.0-py2.py3-none-any.whl (1.9 kB)\n",
      "Collecting imbalanced-learn (from imblearn)\n",
      "  Obtaining dependency information for imbalanced-learn from https://files.pythonhosted.org/packages/a3/9e/fbe60a768502af54563dcb59ca7856f5a8833b3ad5ada658922e1ab09b7f/imbalanced_learn-0.11.0-py3-none-any.whl.metadata\n",
      "  Downloading imbalanced_learn-0.11.0-py3-none-any.whl.metadata (8.3 kB)\n",
      "Requirement already satisfied: numpy>=1.17.3 in c:\\users\\sathya\\desktop\\ml\\customer_churn_prediction\\virtual_env\\lib\\site-packages (from imbalanced-learn->imblearn) (1.25.2)\n",
      "Requirement already satisfied: scipy>=1.5.0 in c:\\users\\sathya\\desktop\\ml\\customer_churn_prediction\\virtual_env\\lib\\site-packages (from imbalanced-learn->imblearn) (1.11.2)\n",
      "Requirement already satisfied: scikit-learn>=1.0.2 in c:\\users\\sathya\\desktop\\ml\\customer_churn_prediction\\virtual_env\\lib\\site-packages (from imbalanced-learn->imblearn) (1.3.0)\n",
      "Requirement already satisfied: joblib>=1.1.1 in c:\\users\\sathya\\desktop\\ml\\customer_churn_prediction\\virtual_env\\lib\\site-packages (from imbalanced-learn->imblearn) (1.3.2)\n",
      "Requirement already satisfied: threadpoolctl>=2.0.0 in c:\\users\\sathya\\desktop\\ml\\customer_churn_prediction\\virtual_env\\lib\\site-packages (from imbalanced-learn->imblearn) (3.2.0)\n",
      "Downloading imbalanced_learn-0.11.0-py3-none-any.whl (235 kB)\n",
      "   ---------------------------------------- 0.0/235.6 kB ? eta -:--:--\n",
      "   ---------- ----------------------------- 61.4/235.6 kB 1.7 MB/s eta 0:00:01\n",
      "   ------------- ------------------------- 81.9/235.6 kB 919.0 kB/s eta 0:00:01\n",
      "   ------------------------ --------------- 143.4/235.6 kB 1.1 MB/s eta 0:00:01\n",
      "   ---------------------------------------  235.5/235.6 kB 1.3 MB/s eta 0:00:01\n",
      "   ---------------------------------------- 235.6/235.6 kB 1.0 MB/s eta 0:00:00\n",
      "Installing collected packages: imbalanced-learn, imblearn\n",
      "Successfully installed imbalanced-learn-0.11.0 imblearn-0.0\n"
     ]
    }
   ],
   "source": [
    "# !pip install pandas\n",
    "# !pip install openpyxl\n",
    "# !pip install scikit-learn\n",
    "# !pip install category_encoders\n",
    "# !pip install matplotlib\n",
    "# !pip install seaborn\n",
    "# !pip install imblearn\n",
    "\n",
    "import pandas as pd\n"
   ]
  },
  {
   "cell_type": "code",
   "execution_count": null,
   "id": "18b9794f-2aba-4892-adcc-ae9f007f6577",
   "metadata": {},
   "outputs": [],
   "source": [
    "csv_file_path = 'customer_churn_large_dataset.xlsx'\n",
    "df = pd.read_excel(csv_file_path)\n",
    "df.head()\n"
   ]
  },
  {
   "cell_type": "code",
   "execution_count": null,
   "id": "dc85ae17-785e-42f3-b4ec-02a5c5b38bda",
   "metadata": {},
   "outputs": [],
   "source": [
    "df.shape\n"
   ]
  },
  {
   "cell_type": "code",
   "execution_count": null,
   "id": "9c1e24f9-825e-4446-897c-c8a0d8804df7",
   "metadata": {},
   "outputs": [],
   "source": [
    "df.dtypes"
   ]
  },
  {
   "cell_type": "code",
   "execution_count": null,
   "id": "7152dcc5-3f00-4bf6-8480-737ba8317db6",
   "metadata": {},
   "outputs": [],
   "source": [
    "df.info()"
   ]
  },
  {
   "cell_type": "code",
   "execution_count": null,
   "id": "5282c617-09fc-40c5-b47e-3d26cb53d918",
   "metadata": {
    "scrolled": true
   },
   "outputs": [],
   "source": [
    "df.describe(include=\"all\")"
   ]
  },
  {
   "cell_type": "code",
   "execution_count": null,
   "id": "1a0c96fe-99b6-4543-90e3-ac2d74a47610",
   "metadata": {},
   "outputs": [],
   "source": [
    "# The average churn rate is approximately 0.498, indicating that about half of the customers in the dataset have churned  "
   ]
  },
  {
   "cell_type": "code",
   "execution_count": null,
   "id": "1e02bf6b-18c9-45fa-a392-1ac36c09f636",
   "metadata": {
    "scrolled": true
   },
   "outputs": [],
   "source": [
    "df.isnull().sum()"
   ]
  },
  {
   "cell_type": "code",
   "execution_count": null,
   "id": "ef019145-5e87-4bbe-85c7-11ca083ed30d",
   "metadata": {},
   "outputs": [],
   "source": [
    "import seaborn as sns\n",
    "\n",
    "sns.heatmap(df.isnull())"
   ]
  },
  {
   "cell_type": "code",
   "execution_count": null,
   "id": "abf61f48-ed8b-408b-b158-ff04c9d841b3",
   "metadata": {},
   "outputs": [],
   "source": [
    "#there are no null values "
   ]
  },
  {
   "cell_type": "code",
   "execution_count": null,
   "id": "d9cc5a0c-e79c-4819-81e8-3dadf715617d",
   "metadata": {},
   "outputs": [],
   "source": [
    "df.columns.values"
   ]
  },
  {
   "cell_type": "code",
   "execution_count": null,
   "id": "6b021f1b-0068-497f-b5b8-518e2774a480",
   "metadata": {},
   "outputs": [],
   "source": [
    "df.head()"
   ]
  },
  {
   "cell_type": "code",
   "execution_count": null,
   "id": "a3dfec65-a69a-4177-b6ee-467f038a6cea",
   "metadata": {},
   "outputs": [],
   "source": [
    "df=df.drop([\"CustomerID\",\"Name\"],axis=1)"
   ]
  },
  {
   "cell_type": "code",
   "execution_count": null,
   "id": "70b7dda2-98eb-427c-9caf-c9b2fb9a3481",
   "metadata": {},
   "outputs": [],
   "source": [
    "df.head()"
   ]
  },
  {
   "cell_type": "code",
   "execution_count": null,
   "id": "6ca91299-814e-4848-8e50-bb8f1f7afbf1",
   "metadata": {},
   "outputs": [],
   "source": []
  },
  {
   "cell_type": "code",
   "execution_count": null,
   "id": "f888bd1d-c045-4222-9f80-368a61cf2103",
   "metadata": {},
   "outputs": [],
   "source": [
    "def print_unique_col_values(df):\n",
    "       for column in df:\n",
    "             # if df[column].dtypes=='object':\n",
    "                print(f'{column}: {df[column].unique()}') "
   ]
  },
  {
   "cell_type": "code",
   "execution_count": null,
   "id": "aeac0465-afb0-419d-b031-99df87a4d924",
   "metadata": {},
   "outputs": [],
   "source": [
    "print_unique_col_values(df)"
   ]
  },
  {
   "cell_type": "code",
   "execution_count": null,
   "id": "f491fa04-2a96-486c-9ac7-743b1a2c1cde",
   "metadata": {},
   "outputs": [],
   "source": [
    "# One-Hot Encoding for Location "
   ]
  },
  {
   "cell_type": "code",
   "execution_count": null,
   "id": "8242df15-6bac-4112-8a73-791cf83e8851",
   "metadata": {},
   "outputs": [],
   "source": [
    "df[\"Location\"].unique()"
   ]
  },
  {
   "cell_type": "code",
   "execution_count": null,
   "id": "f364a7dd-c2c3-4f4f-9a2b-27e07c55e89c",
   "metadata": {},
   "outputs": [],
   "source": [
    "df = pd.get_dummies(df, columns=['Location'], prefix='Location')\n",
    "df = df.drop(columns=['Location_Los Angeles'])\n",
    "df.head()"
   ]
  },
  {
   "cell_type": "code",
   "execution_count": null,
   "id": "1664a917-450d-497c-8ffb-c8790c1c48ce",
   "metadata": {},
   "outputs": [],
   "source": [
    "bool_columns_to_convert = ['Location_Chicago', 'Location_Houston', 'Location_Miami', 'Location_New York']\n",
    "df[bool_columns_to_convert] = df[bool_columns_to_convert].astype(int)"
   ]
  },
  {
   "cell_type": "code",
   "execution_count": null,
   "id": "30cb32a7-0c74-43e7-8e27-65f55774585e",
   "metadata": {},
   "outputs": [],
   "source": [
    "# Label Encoding for Gender"
   ]
  },
  {
   "cell_type": "code",
   "execution_count": null,
   "id": "574ece49-187f-4b90-a7b3-4f36b97353f6",
   "metadata": {},
   "outputs": [],
   "source": [
    "from sklearn.preprocessing import LabelEncoder\n",
    "\n",
    "label_encoder = LabelEncoder()\n",
    "df['Gender'] = label_encoder.fit_transform(df['Gender'])\n"
   ]
  },
  {
   "cell_type": "code",
   "execution_count": null,
   "id": "8f166c05-a3cc-48d4-b9c4-03530d60c093",
   "metadata": {},
   "outputs": [],
   "source": []
  },
  {
   "cell_type": "code",
   "execution_count": null,
   "id": "c0054a7c-d106-404e-9ad6-355d49e67871",
   "metadata": {},
   "outputs": [],
   "source": [
    "df.head()"
   ]
  },
  {
   "cell_type": "code",
   "execution_count": null,
   "id": "3a1706f2-c8bc-418d-8bb6-f5d67e2a1144",
   "metadata": {},
   "outputs": [],
   "source": [
    "df.info()"
   ]
  },
  {
   "cell_type": "code",
   "execution_count": null,
   "id": "6c671ae0-0dab-4c8a-bb35-8b200cdb53f8",
   "metadata": {},
   "outputs": [],
   "source": [
    "print(df['Subscription_Length_Months'].max())"
   ]
  },
  {
   "cell_type": "code",
   "execution_count": null,
   "id": "361c0177-3b85-4761-a738-4d29cf71f1ce",
   "metadata": {},
   "outputs": [],
   "source": [
    "import matplotlib.pyplot as plt\n",
    "\n",
    "df['Churn'].value_counts().plot(kind='barh', figsize=(8, 6))\n",
    "plt.xlabel(\"Count\", labelpad=14)\n",
    "plt.ylabel(\"Target Variable\", labelpad=14)\n",
    "plt.title(\"Count of TARGET Variable per category\", y=1.02);"
   ]
  },
  {
   "cell_type": "code",
   "execution_count": null,
   "id": "3f73b12a-3691-42c1-8ff2-9ae6522c57b6",
   "metadata": {},
   "outputs": [],
   "source": [
    "100*df['Churn'].value_counts()/len(df['Churn'])\n"
   ]
  },
  {
   "cell_type": "code",
   "execution_count": null,
   "id": "e53fa805-f636-494a-9fae-0736a13467e8",
   "metadata": {},
   "outputs": [],
   "source": [
    "df['Churn'].value_counts()\n"
   ]
  },
  {
   "cell_type": "code",
   "execution_count": null,
   "id": "52c14ad8-967a-4fe3-9e38-fc1e7a3eadad",
   "metadata": {},
   "outputs": [],
   "source": []
  },
  {
   "cell_type": "code",
   "execution_count": null,
   "id": "d2f9d19d-4176-4c29-8d59-6fc3c937ec86",
   "metadata": {},
   "outputs": [],
   "source": [
    "import matplotlib.pyplot as plt\n",
    "\n",
    "# Create subplots for histograms\n",
    "plt.figure(figsize=(12, 6))\n",
    "\n",
    "# Age histogram\n",
    "plt.subplot(2, 3, 1)\n",
    "plt.hist(df['Age'], bins=20, edgecolor='k')\n",
    "plt.title('Age Histogram')\n",
    "\n",
    "# Subscription_Length_Months histogram\n",
    "plt.subplot(2, 3, 2)\n",
    "plt.hist(df['Subscription_Length_Months'], bins=20, edgecolor='k')\n",
    "plt.title('Subscription Length Histogram')\n",
    "\n",
    "# Monthly_Bill histogram\n",
    "plt.subplot(2, 3, 3)\n",
    "plt.hist(df['Monthly_Bill'], bins=20, edgecolor='k')\n",
    "plt.title('Monthly Bill Histogram')\n",
    "\n",
    "# Total_Usage_GB histogram\n",
    "plt.subplot(2, 3, 4)\n",
    "plt.hist(df['Total_Usage_GB'], bins=20, edgecolor='k')\n",
    "plt.title('Total Usage Histogram')\n",
    "\n",
    "plt.tight_layout()\n",
    "plt.show()\n"
   ]
  },
  {
   "cell_type": "code",
   "execution_count": null,
   "id": "7f5c9358-d9fe-4ac9-92c3-1547b2f7cef1",
   "metadata": {},
   "outputs": [],
   "source": [
    "# Create subplots for bar charts\n",
    "plt.figure(figsize=(12, 4))\n",
    "\n",
    "# Gender bar chart\n",
    "plt.subplot(1, 3, 1)\n",
    "df['Gender'].value_counts().plot(kind='bar', edgecolor='k')\n",
    "plt.title('Gender Distribution')\n",
    "\n",
    "# Churn bar chart\n",
    "plt.subplot(1, 3, 2)\n",
    "df['Churn'].value_counts().plot(kind='bar', edgecolor='k')\n",
    "plt.title('Churn Distribution')\n",
    "\n",
    "# Location bar chart\n",
    "plt.subplot(1, 3, 3)\n",
    "location_columns = ['Location_Chicago', 'Location_Houston', 'Location_Miami', 'Location_New York']\n",
    "location_counts = df[location_columns].sum()\n",
    "location_counts.plot(kind='bar', edgecolor='k')\n",
    "plt.title('Location Distribution')\n",
    "\n",
    "plt.tight_layout()\n",
    "plt.show()\n"
   ]
  },
  {
   "cell_type": "code",
   "execution_count": null,
   "id": "39b0fde8-5dd7-4add-bea6-b41f911409a0",
   "metadata": {},
   "outputs": [],
   "source": [
    "import matplotlib.pyplot as plt\n",
    "import seaborn as sns\n",
    "\n",
    "# Create subplots for univariate analysis\n",
    "plt.figure(figsize=(15, 5))\n",
    "\n",
    "# Subscription_Length_Months analysis\n",
    "plt.subplot(1, 3, 1)\n",
    "sns.histplot(data=df, x='Subscription_Length_Months', kde=True)\n",
    "plt.title('Subscription Length Distribution')\n",
    "\n",
    "# Monthly_Bill analysis\n",
    "plt.subplot(1, 3, 2)\n",
    "sns.histplot(data=df, x='Monthly_Bill', kde=True)\n",
    "plt.title('Monthly Bill Distribution')\n",
    "\n",
    "# Total_Usage_GB analysis\n",
    "plt.subplot(1, 3, 3)\n",
    "sns.histplot(data=df, x='Total_Usage_GB', kde=True)\n",
    "plt.title('Total Usage Distribution')\n",
    "\n",
    "plt.tight_layout()\n",
    "plt.show()\n",
    "\n",
    "# Summary statistics\n",
    "print(\"Summary Statistics:\")\n",
    "print(df[['Subscription_Length_Months', 'Monthly_Bill', 'Total_Usage_GB']].describe())\n"
   ]
  },
  {
   "cell_type": "code",
   "execution_count": null,
   "id": "d52badb6-af31-401c-b4d9-7b79fded623b",
   "metadata": {},
   "outputs": [],
   "source": [
    "# The subscription lengths in the dataset range from a minimum of 1 month to a maximum of 24 months, \n",
    "# with 25% of customers having a subscription of 6 months or less,\n",
    "# 50% having a subscription of 12 months or less,\n",
    "# and 75% having a subscription of 19 months or less."
   ]
  },
  {
   "cell_type": "code",
   "execution_count": null,
   "id": "73ea6177-666e-4e5a-a066-ff4c4714c803",
   "metadata": {},
   "outputs": [],
   "source": [
    "import matplotlib.pyplot as plt\n",
    "import seaborn as sns\n",
    "\n",
    "# Define the bin ranges with 1-month intervals\n",
    "bins = [i for i in range(0, 25,4)]  # Create bins for each month from 0 to 24\n",
    "\n",
    "# Create a new column in the DataFrame to represent the bins\n",
    "df['Subscription_Length_Bin'] = pd.cut(df['Subscription_Length_Months'], bins=bins, right=False)\n",
    "\n",
    "# Create a bar plot to visualize the distribution\n",
    "plt.figure(figsize=(12, 6))\n",
    "sns.countplot(data=df, x='Subscription_Length_Bin', hue='Churn')\n",
    "plt.xlabel('Subscription Length (Months)')\n",
    "plt.ylabel('Count')\n",
    "plt.title('Distribution of Subscription Length vs. Churn (4-Month Intervals)')\n",
    "plt.xticks(rotation=45)  # Rotate x-axis labels for better readability\n",
    "plt.show()\n"
   ]
  },
  {
   "cell_type": "code",
   "execution_count": null,
   "id": "d943dee5-9013-4f11-8819-c38fcc4cbadd",
   "metadata": {},
   "outputs": [],
   "source": [
    "import matplotlib.pyplot as plt\n",
    "import seaborn as sns\n",
    "\n",
    "# Create subplots for box plots and histograms\n",
    "plt.figure(figsize=(12, 6))\n",
    "\n",
    "# Box plot for subscription length vs. churn\n",
    "plt.subplot(1, 2, 1)\n",
    "sns.boxplot(data=df, x='Churn', y='Subscription_Length_Months')\n",
    "plt.xlabel('Churn')\n",
    "plt.ylabel('Subscription Length (Months)')\n",
    "plt.title('Box Plot: Subscription Length vs. Churn')\n",
    "\n",
    "# Histograms for subscription length for churned and non-churned customers\n",
    "plt.subplot(1, 2, 2)\n",
    "sns.histplot(data=df, x='Subscription_Length_Months', hue='Churn', kde=True)\n",
    "plt.xlabel('Subscription Length (Months)')\n",
    "plt.ylabel('Count')\n",
    "plt.title('Histogram: Subscription Length vs. Churn')\n",
    "\n",
    "plt.tight_layout()\n",
    "plt.show()\n"
   ]
  },
  {
   "cell_type": "code",
   "execution_count": null,
   "id": "58137e27-c8cf-4a5c-857f-0821ea99f377",
   "metadata": {},
   "outputs": [],
   "source": [
    "import matplotlib.pyplot as plt\n",
    "import seaborn as sns\n",
    "\n",
    "# Create subplots for violin plot and kernel density plot\n",
    "plt.figure(figsize=(12, 6))\n",
    "\n",
    "# Violin plot for subscription length vs. churn\n",
    "plt.subplot(1, 2, 1)\n",
    "sns.violinplot(data=df, x='Churn', y='Subscription_Length_Months', inner='quart')\n",
    "plt.xlabel('Churn')\n",
    "plt.ylabel('Subscription Length (Months)')\n",
    "plt.title('Violin Plot: Subscription Length vs. Churn')\n",
    "\n",
    "# Kernel density plot for subscription length for churned and non-churned customers\n",
    "plt.subplot(1, 2, 2)\n",
    "sns.kdeplot(data=df[df['Churn'] == 0]['Subscription_Length_Months'], label='Non-Churned', shade=True)\n",
    "sns.kdeplot(data=df[df['Churn'] == 1]['Subscription_Length_Months'], label='Churned', shade=True)\n",
    "plt.xlabel('Subscription Length (Months)')\n",
    "plt.ylabel('Density')\n",
    "plt.title('Kernel Density Plot: Subscription Length vs. Churn')\n",
    "plt.legend()\n",
    "\n",
    "plt.tight_layout()\n",
    "plt.show()\n"
   ]
  },
  {
   "cell_type": "code",
   "execution_count": null,
   "id": "2728f34a-b395-425f-94c8-3939a443d042",
   "metadata": {},
   "outputs": [],
   "source": [
    "df[\"Subscription_Length_Months\"].skew()"
   ]
  },
  {
   "cell_type": "code",
   "execution_count": null,
   "id": "6f0b41a0-c358-4f05-a07b-85db08eb6633",
   "metadata": {},
   "outputs": [],
   "source": [
    "import matplotlib.pyplot as plt\n",
    "import seaborn as sns\n",
    "\n",
    "# Define the bin ranges with 100-unit intervals\n",
    "bill_bins = [i for i in range(0, 101, 10)]  # Create bins for each 100 units from 0 to 100\n",
    "\n",
    "# Create a new column in the DataFrame to represent the bins\n",
    "df['Monthly_Bill_Bin'] = pd.cut(df['Monthly_Bill'], bins=bill_bins, right=False)\n",
    "\n",
    "# Create a bar plot to visualize the distribution\n",
    "plt.figure(figsize=(12, 6))\n",
    "sns.countplot(data=df, x='Monthly_Bill_Bin', hue='Churn')\n",
    "plt.xlabel('Monthly Bill (10-Unit Intervals)')\n",
    "plt.ylabel('Count')\n",
    "plt.title('Distribution of Monthly Bill vs. Churn (100-Unit Intervals)')\n",
    "plt.xticks(rotation=45)  # Rotate x-axis labels for better readability\n",
    "plt.show()\n"
   ]
  },
  {
   "cell_type": "code",
   "execution_count": null,
   "id": "1b5ff62e-aaed-45e4-add7-1e45b32286ae",
   "metadata": {},
   "outputs": [],
   "source": [
    "import matplotlib.pyplot as plt\n",
    "import seaborn as sns\n",
    "\n",
    "# Create subplots for box plots and histograms\n",
    "plt.figure(figsize=(12, 6))\n",
    "\n",
    "# Box plot for monthly bill vs. churn\n",
    "plt.subplot(1, 2, 1)\n",
    "sns.boxplot(data=df, x='Churn', y='Monthly_Bill')\n",
    "plt.xlabel('Churn')\n",
    "plt.ylabel('Monthly Bill')\n",
    "plt.title('Box Plot: Monthly Bill vs. Churn')\n",
    "\n",
    "# Histograms for monthly bill for churned and non-churned customers\n",
    "plt.subplot(1, 2, 2)\n",
    "sns.histplot(data=df, x='Monthly_Bill', hue='Churn', kde=True)\n",
    "plt.xlabel('Monthly Bill')\n",
    "plt.ylabel('Count')\n",
    "plt.title('Histogram: Monthly Bill vs. Churn')\n",
    "\n",
    "plt.tight_layout()\n",
    "plt.show()\n"
   ]
  },
  {
   "cell_type": "code",
   "execution_count": null,
   "id": "87e57d01-4553-4e47-99b5-73779a1fa4a6",
   "metadata": {},
   "outputs": [],
   "source": [
    "import matplotlib.pyplot as plt\n",
    "import seaborn as sns\n",
    "\n",
    "# Create subplots for violin plot and kernel density plot\n",
    "plt.figure(figsize=(12, 6))\n",
    "\n",
    "# Violin plot for monthly bill vs. churn\n",
    "plt.subplot(1, 2, 1)\n",
    "sns.violinplot(data=df, x='Churn', y='Monthly_Bill', inner='quart')\n",
    "plt.xlabel('Churn')\n",
    "plt.ylabel('Monthly Bill')\n",
    "plt.title('Violin Plot: Monthly Bill vs. Churn')\n",
    "\n",
    "# Kernel density plot for monthly bill for churned and non-churned customers\n",
    "plt.subplot(1, 2, 2)\n",
    "sns.kdeplot(data=df[df['Churn'] == 0]['Monthly_Bill'], label='Non-Churned', shade=True)\n",
    "sns.kdeplot(data=df[df['Churn'] == 1]['Monthly_Bill'], label='Churned', shade=True)\n",
    "plt.xlabel('Monthly Bill')\n",
    "plt.ylabel('Density')\n",
    "plt.title('Kernel Density Plot: Monthly Bill vs. Churn')\n",
    "plt.legend()\n",
    "\n",
    "plt.tight_layout()\n",
    "plt.show()\n"
   ]
  },
  {
   "cell_type": "code",
   "execution_count": null,
   "id": "91f4d1f6-f28f-41db-84d8-2408918a3ca7",
   "metadata": {},
   "outputs": [],
   "source": [
    "import matplotlib.pyplot as plt\n",
    "import seaborn as sns\n",
    "\n",
    "# Create a bar plot to visualize the distribution\n",
    "plt.figure(figsize=(12, 6))\n",
    "sns.barplot(data=df, x='Churn', y='Total_Usage_GB')\n",
    "plt.xlabel('Churn')\n",
    "plt.ylabel('Total Usage (GB)')\n",
    "plt.title('Distribution of Total Usage vs. Churn')\n",
    "plt.show()\n"
   ]
  },
  {
   "cell_type": "code",
   "execution_count": null,
   "id": "c4427a9e-be37-424c-b770-03cf956651da",
   "metadata": {},
   "outputs": [],
   "source": [
    "import matplotlib.pyplot as plt\n",
    "import seaborn as sns\n",
    "\n",
    "# Create subplots for box plot and histogram\n",
    "plt.figure(figsize=(12, 6))\n",
    "\n",
    "# Box plot for total usage vs. churn\n",
    "plt.subplot(1, 2, 1)\n",
    "sns.boxplot(data=df, x='Churn', y='Total_Usage_GB')\n",
    "plt.xlabel('Churn')\n",
    "plt.ylabel('Total Usage (GB)')\n",
    "plt.title('Box Plot: Total Usage vs. Churn')\n",
    "\n",
    "# Histograms for total usage for churned and non-churned customers\n",
    "plt.subplot(1, 2, 2)\n",
    "sns.histplot(data=df, x='Total_Usage_GB', hue='Churn', kde=True)\n",
    "plt.xlabel('Total Usage (GB)')\n",
    "plt.ylabel('Count')\n",
    "plt.title('Histogram: Total Usage vs. Churn')\n",
    "\n",
    "plt.tight_layout()\n",
    "plt.show()\n"
   ]
  },
  {
   "cell_type": "code",
   "execution_count": null,
   "id": "372423fd-37c4-4c9e-805b-c693bdb1d419",
   "metadata": {},
   "outputs": [],
   "source": [
    "import matplotlib.pyplot as plt\n",
    "import seaborn as sns\n",
    "\n",
    "# Create subplots for violin plot and kernel density plot\n",
    "plt.figure(figsize=(12, 6))\n",
    "\n",
    "# Violin plot for total usage vs. churn\n",
    "plt.subplot(1, 2, 1)\n",
    "sns.violinplot(data=df, x='Churn', y='Total_Usage_GB', inner='quart')\n",
    "plt.xlabel('Churn')\n",
    "plt.ylabel('Total Usage (GB)')\n",
    "plt.title('Violin Plot: Total Usage vs. Churn')\n",
    "\n",
    "# Kernel density plot for total usage for churned and non-churned customers\n",
    "plt.subplot(1, 2, 2)\n",
    "sns.kdeplot(data=df[df['Churn'] == 0]['Total_Usage_GB'], label='Non-Churned', shade=True)\n",
    "sns.kdeplot(data=df[df['Churn'] == 1]['Total_Usage_GB'], label='Churned', shade=True)\n",
    "plt.xlabel('Total Usage (GB)')\n",
    "plt.ylabel('Density')\n",
    "plt.title('Kernel Density Plot: Total Usage vs. Churn')\n",
    "plt.legend()\n",
    "\n",
    "plt.tight_layout()\n",
    "plt.show()\n"
   ]
  },
  {
   "cell_type": "code",
   "execution_count": null,
   "id": "6de58a4d-d82e-4c1b-b797-88b698eec4b7",
   "metadata": {},
   "outputs": [],
   "source": []
  },
  {
   "cell_type": "code",
   "execution_count": null,
   "id": "90a58ae4-c835-476e-ad3c-7663e220f491",
   "metadata": {},
   "outputs": [],
   "source": [
    "import matplotlib.pyplot as plt\n",
    "import seaborn as sns\n",
    "\n",
    "\n",
    "for i, predictor in enumerate(df.drop(columns=['Churn', 'Subscription_Length_Months','Age','Monthly_Bill','Total_Usage_GB'])):\n",
    "    plt.figure(i)\n",
    "    sns.countplot(data=df, x=predictor, hue='Churn')\n"
   ]
  },
  {
   "cell_type": "code",
   "execution_count": null,
   "id": "aff87ac2-3e8a-4f5c-8af4-738cdc50cb24",
   "metadata": {},
   "outputs": [],
   "source": [
    "import matplotlib.pyplot as plt\n",
    "import seaborn as sns\n",
    "\n",
    "# Assuming you have two datasets: age_churn_yes and age_churn_no\n",
    "age_churn_yes = df[df['Churn'] == 1]['Subscription_Length_Months']\n",
    "age_churn_no = df[df['Churn'] == 0]['Subscription_Length_Months']\n",
    "\n",
    "plt.xlabel(\"Age\")\n",
    "plt.ylabel(\"Number Of Customers\")\n",
    "plt.title(\"Customer Churn Prediction Visualization\")\n",
    "\n",
    "plt.hist([age_churn_yes, age_churn_no], bins=10, rwidth=0.95,  label=['Churn=Yes', 'Churn=No'])\n",
    "plt.legend()\n",
    "plt.show()\n"
   ]
  },
  {
   "cell_type": "code",
   "execution_count": null,
   "id": "af65d996-8a82-4ede-a4ac-cef4cbe125c2",
   "metadata": {},
   "outputs": [],
   "source": [
    "import matplotlib.pyplot as plt\n",
    "import seaborn as sns\n",
    "\n",
    "# Select only numeric features for correlation analysis\n",
    "numeric_features = df.select_dtypes(include=[np.number])\n",
    "\n",
    "# Calculate the correlation between numeric features and 'Churn'\n",
    "correlations = numeric_features.corr()['Churn'].sort_values(ascending=False)\n",
    "\n",
    "# Create a figure and axis\n",
    "plt.figure(figsize=(12, 6))\n",
    "\n",
    "# Plot the correlations\n",
    "ax = correlations.plot(kind='bar')\n",
    "ax.set_xticklabels(ax.get_xticklabels(), rotation=45, horizontalalignment='right')\n",
    "\n",
    "plt.xlabel(\"Features\")\n",
    "plt.ylabel(\"Correlation with Churn\")\n",
    "plt.title(\"Correlation between Numeric Features and Churn\")\n",
    "plt.tight_layout()\n",
    "plt.show()\n"
   ]
  },
  {
   "cell_type": "code",
   "execution_count": null,
   "id": "734eeff1-91b9-4242-a18c-53e140ca95de",
   "metadata": {},
   "outputs": [],
   "source": [
    "import matplotlib.pyplot as plt\n",
    "import seaborn as sns\n",
    "\n",
    "# Select only numeric columns\n",
    "numeric_columns = df.select_dtypes(include=[np.number])\n",
    "\n",
    "# Calculate the correlation matrix\n",
    "correlation_matrix = numeric_columns.corr()\n",
    "\n",
    "# Create a figure and axis for the heatmap\n",
    "plt.figure(figsize=(12, 12))\n",
    "ax = sns.heatmap(correlation_matrix, cmap=\"coolwarm\", annot=True, fmt=\".2f\", linewidths=0.5)\n",
    "\n",
    "# Set the title\n",
    "plt.title(\"Correlation Heatmap\")\n",
    "\n",
    "# Customize x-axis and y-axis labels\n",
    "ax.set_xticklabels(ax.get_xticklabels(), rotation=45, horizontalalignment='right')\n",
    "ax.set_yticklabels(ax.get_yticklabels(), rotation=0, horizontalalignment='right')\n",
    "\n",
    "# Add color bar legend\n",
    "cbar = ax.collections[0].colorbar\n",
    "cbar.set_label(\"Correlation\")\n",
    "\n",
    "# Display the heatmap\n",
    "plt.show()\n"
   ]
  },
  {
   "cell_type": "code",
   "execution_count": null,
   "id": "eb5999ff-05c6-4a5a-a649-40100aa21a78",
   "metadata": {},
   "outputs": [],
   "source": []
  },
  {
   "cell_type": "code",
   "execution_count": null,
   "id": "2b3544c0-2f25-4960-b0c2-5fa8375feb96",
   "metadata": {},
   "outputs": [],
   "source": []
  },
  {
   "cell_type": "code",
   "execution_count": null,
   "id": "dd46092e-d743-478c-9aa9-3b556f30bded",
   "metadata": {},
   "outputs": [],
   "source": []
  },
  {
   "cell_type": "code",
   "execution_count": null,
   "id": "e346bd44-da46-462a-af25-9f59f9ea866d",
   "metadata": {},
   "outputs": [],
   "source": []
  },
  {
   "cell_type": "code",
   "execution_count": null,
   "id": "c7518729-ed21-4986-9e49-0803deed467f",
   "metadata": {},
   "outputs": [],
   "source": []
  },
  {
   "cell_type": "code",
   "execution_count": null,
   "id": "9ccd06e8-3543-4eca-bc32-ed2cff1ac070",
   "metadata": {},
   "outputs": [],
   "source": []
  },
  {
   "cell_type": "code",
   "execution_count": 314,
   "id": "56fa1098-7d01-42fb-9b38-23df95f50f94",
   "metadata": {},
   "outputs": [
    {
     "data": {
      "text/html": [
       "<div>\n",
       "<style scoped>\n",
       "    .dataframe tbody tr th:only-of-type {\n",
       "        vertical-align: middle;\n",
       "    }\n",
       "\n",
       "    .dataframe tbody tr th {\n",
       "        vertical-align: top;\n",
       "    }\n",
       "\n",
       "    .dataframe thead th {\n",
       "        text-align: right;\n",
       "    }\n",
       "</style>\n",
       "<table border=\"1\" class=\"dataframe\">\n",
       "  <thead>\n",
       "    <tr style=\"text-align: right;\">\n",
       "      <th></th>\n",
       "      <th>Age</th>\n",
       "      <th>Gender</th>\n",
       "      <th>Subscription_Length_Months</th>\n",
       "      <th>Monthly_Bill</th>\n",
       "      <th>Total_Usage_GB</th>\n",
       "      <th>Churn</th>\n",
       "      <th>Location_Chicago</th>\n",
       "      <th>Location_Houston</th>\n",
       "      <th>Location_Miami</th>\n",
       "      <th>Location_New York</th>\n",
       "      <th>Subscription_Length_Bin</th>\n",
       "      <th>Monthly_Bill_Bin</th>\n",
       "    </tr>\n",
       "  </thead>\n",
       "  <tbody>\n",
       "    <tr>\n",
       "      <th>0</th>\n",
       "      <td>0.865385</td>\n",
       "      <td>1</td>\n",
       "      <td>0.695652</td>\n",
       "      <td>0.619429</td>\n",
       "      <td>0.413333</td>\n",
       "      <td>0</td>\n",
       "      <td>0</td>\n",
       "      <td>0</td>\n",
       "      <td>0</td>\n",
       "      <td>0</td>\n",
       "      <td>[16, 20)</td>\n",
       "      <td>[70, 80)</td>\n",
       "    </tr>\n",
       "    <tr>\n",
       "      <th>1</th>\n",
       "      <td>0.846154</td>\n",
       "      <td>0</td>\n",
       "      <td>0.000000</td>\n",
       "      <td>0.268000</td>\n",
       "      <td>0.271111</td>\n",
       "      <td>0</td>\n",
       "      <td>0</td>\n",
       "      <td>0</td>\n",
       "      <td>0</td>\n",
       "      <td>1</td>\n",
       "      <td>[0, 4)</td>\n",
       "      <td>[40, 50)</td>\n",
       "    </tr>\n",
       "    <tr>\n",
       "      <th>2</th>\n",
       "      <td>0.115385</td>\n",
       "      <td>0</td>\n",
       "      <td>0.173913</td>\n",
       "      <td>0.792429</td>\n",
       "      <td>0.911111</td>\n",
       "      <td>0</td>\n",
       "      <td>0</td>\n",
       "      <td>0</td>\n",
       "      <td>0</td>\n",
       "      <td>0</td>\n",
       "      <td>[4, 8)</td>\n",
       "      <td>[80, 90)</td>\n",
       "    </tr>\n",
       "    <tr>\n",
       "      <th>3</th>\n",
       "      <td>0.346154</td>\n",
       "      <td>0</td>\n",
       "      <td>0.086957</td>\n",
       "      <td>0.970571</td>\n",
       "      <td>0.548889</td>\n",
       "      <td>1</td>\n",
       "      <td>0</td>\n",
       "      <td>0</td>\n",
       "      <td>1</td>\n",
       "      <td>0</td>\n",
       "      <td>[0, 4)</td>\n",
       "      <td>[90, 100)</td>\n",
       "    </tr>\n",
       "    <tr>\n",
       "      <th>4</th>\n",
       "      <td>0.538462</td>\n",
       "      <td>0</td>\n",
       "      <td>0.782609</td>\n",
       "      <td>0.402000</td>\n",
       "      <td>0.480000</td>\n",
       "      <td>0</td>\n",
       "      <td>0</td>\n",
       "      <td>0</td>\n",
       "      <td>1</td>\n",
       "      <td>0</td>\n",
       "      <td>[16, 20)</td>\n",
       "      <td>[50, 60)</td>\n",
       "    </tr>\n",
       "  </tbody>\n",
       "</table>\n",
       "</div>"
      ],
      "text/plain": [
       "        Age  Gender  Subscription_Length_Months  Monthly_Bill  Total_Usage_GB  \\\n",
       "0  0.865385       1                    0.695652      0.619429        0.413333   \n",
       "1  0.846154       0                    0.000000      0.268000        0.271111   \n",
       "2  0.115385       0                    0.173913      0.792429        0.911111   \n",
       "3  0.346154       0                    0.086957      0.970571        0.548889   \n",
       "4  0.538462       0                    0.782609      0.402000        0.480000   \n",
       "\n",
       "   Churn  Location_Chicago  Location_Houston  Location_Miami  \\\n",
       "0      0                 0                 0               0   \n",
       "1      0                 0                 0               0   \n",
       "2      0                 0                 0               0   \n",
       "3      1                 0                 0               1   \n",
       "4      0                 0                 0               1   \n",
       "\n",
       "   Location_New York Subscription_Length_Bin Monthly_Bill_Bin  \n",
       "0                  0                [16, 20)         [70, 80)  \n",
       "1                  1                  [0, 4)         [40, 50)  \n",
       "2                  0                  [4, 8)         [80, 90)  \n",
       "3                  0                  [0, 4)        [90, 100)  \n",
       "4                  0                [16, 20)         [50, 60)  "
      ]
     },
     "execution_count": 314,
     "metadata": {},
     "output_type": "execute_result"
    }
   ],
   "source": [
    "df.head()\n",
    " "
   ]
  },
  {
   "cell_type": "code",
   "execution_count": 315,
   "id": "bfb3dfc4-e248-4c07-b8f5-733a76978c0d",
   "metadata": {},
   "outputs": [],
   "source": [
    "# Model Building\n"
   ]
  },
  {
   "cell_type": "code",
   "execution_count": 316,
   "id": "70bb14e2-9dbb-410f-aef5-310c4f87b14b",
   "metadata": {},
   "outputs": [],
   "source": [
    "import pandas as pd\n",
    "from sklearn import metrics\n",
    "from sklearn.model_selection import train_test_split\n",
    "from sklearn.metrics import recall_score\n",
    "from sklearn.metrics import classification_report\n",
    "from sklearn.metrics import confusion_matrix\n",
    "from sklearn.tree import DecisionTreeClassifier\n",
    "from imblearn.combine import SMOTEENN\n",
    "from sklearn.linear_model import LinearRegression\n",
    "from sklearn.metrics import mean_squared_error\n",
    "import numpy as np"
   ]
  },
  {
   "cell_type": "code",
   "execution_count": 317,
   "id": "88fb2369-fdad-4ccf-89be-fe9e71cb3ed9",
   "metadata": {},
   "outputs": [
    {
     "data": {
      "text/html": [
       "<div>\n",
       "<style scoped>\n",
       "    .dataframe tbody tr th:only-of-type {\n",
       "        vertical-align: middle;\n",
       "    }\n",
       "\n",
       "    .dataframe tbody tr th {\n",
       "        vertical-align: top;\n",
       "    }\n",
       "\n",
       "    .dataframe thead th {\n",
       "        text-align: right;\n",
       "    }\n",
       "</style>\n",
       "<table border=\"1\" class=\"dataframe\">\n",
       "  <thead>\n",
       "    <tr style=\"text-align: right;\">\n",
       "      <th></th>\n",
       "      <th>Age</th>\n",
       "      <th>Gender</th>\n",
       "      <th>Subscription_Length_Months</th>\n",
       "      <th>Monthly_Bill</th>\n",
       "      <th>Total_Usage_GB</th>\n",
       "      <th>Churn</th>\n",
       "      <th>Location_Chicago</th>\n",
       "      <th>Location_Houston</th>\n",
       "      <th>Location_Miami</th>\n",
       "      <th>Location_New York</th>\n",
       "      <th>Subscription_Length_Bin</th>\n",
       "      <th>Monthly_Bill_Bin</th>\n",
       "    </tr>\n",
       "  </thead>\n",
       "  <tbody>\n",
       "    <tr>\n",
       "      <th>0</th>\n",
       "      <td>0.865385</td>\n",
       "      <td>1</td>\n",
       "      <td>0.695652</td>\n",
       "      <td>0.619429</td>\n",
       "      <td>0.413333</td>\n",
       "      <td>0</td>\n",
       "      <td>0</td>\n",
       "      <td>0</td>\n",
       "      <td>0</td>\n",
       "      <td>0</td>\n",
       "      <td>[16, 20)</td>\n",
       "      <td>[70, 80)</td>\n",
       "    </tr>\n",
       "    <tr>\n",
       "      <th>1</th>\n",
       "      <td>0.846154</td>\n",
       "      <td>0</td>\n",
       "      <td>0.000000</td>\n",
       "      <td>0.268000</td>\n",
       "      <td>0.271111</td>\n",
       "      <td>0</td>\n",
       "      <td>0</td>\n",
       "      <td>0</td>\n",
       "      <td>0</td>\n",
       "      <td>1</td>\n",
       "      <td>[0, 4)</td>\n",
       "      <td>[40, 50)</td>\n",
       "    </tr>\n",
       "    <tr>\n",
       "      <th>2</th>\n",
       "      <td>0.115385</td>\n",
       "      <td>0</td>\n",
       "      <td>0.173913</td>\n",
       "      <td>0.792429</td>\n",
       "      <td>0.911111</td>\n",
       "      <td>0</td>\n",
       "      <td>0</td>\n",
       "      <td>0</td>\n",
       "      <td>0</td>\n",
       "      <td>0</td>\n",
       "      <td>[4, 8)</td>\n",
       "      <td>[80, 90)</td>\n",
       "    </tr>\n",
       "    <tr>\n",
       "      <th>3</th>\n",
       "      <td>0.346154</td>\n",
       "      <td>0</td>\n",
       "      <td>0.086957</td>\n",
       "      <td>0.970571</td>\n",
       "      <td>0.548889</td>\n",
       "      <td>1</td>\n",
       "      <td>0</td>\n",
       "      <td>0</td>\n",
       "      <td>1</td>\n",
       "      <td>0</td>\n",
       "      <td>[0, 4)</td>\n",
       "      <td>[90, 100)</td>\n",
       "    </tr>\n",
       "    <tr>\n",
       "      <th>4</th>\n",
       "      <td>0.538462</td>\n",
       "      <td>0</td>\n",
       "      <td>0.782609</td>\n",
       "      <td>0.402000</td>\n",
       "      <td>0.480000</td>\n",
       "      <td>0</td>\n",
       "      <td>0</td>\n",
       "      <td>0</td>\n",
       "      <td>1</td>\n",
       "      <td>0</td>\n",
       "      <td>[16, 20)</td>\n",
       "      <td>[50, 60)</td>\n",
       "    </tr>\n",
       "  </tbody>\n",
       "</table>\n",
       "</div>"
      ],
      "text/plain": [
       "        Age  Gender  Subscription_Length_Months  Monthly_Bill  Total_Usage_GB  \\\n",
       "0  0.865385       1                    0.695652      0.619429        0.413333   \n",
       "1  0.846154       0                    0.000000      0.268000        0.271111   \n",
       "2  0.115385       0                    0.173913      0.792429        0.911111   \n",
       "3  0.346154       0                    0.086957      0.970571        0.548889   \n",
       "4  0.538462       0                    0.782609      0.402000        0.480000   \n",
       "\n",
       "   Churn  Location_Chicago  Location_Houston  Location_Miami  \\\n",
       "0      0                 0                 0               0   \n",
       "1      0                 0                 0               0   \n",
       "2      0                 0                 0               0   \n",
       "3      1                 0                 0               1   \n",
       "4      0                 0                 0               1   \n",
       "\n",
       "   Location_New York Subscription_Length_Bin Monthly_Bill_Bin  \n",
       "0                  0                [16, 20)         [70, 80)  \n",
       "1                  1                  [0, 4)         [40, 50)  \n",
       "2                  0                  [4, 8)         [80, 90)  \n",
       "3                  0                  [0, 4)        [90, 100)  \n",
       "4                  0                [16, 20)         [50, 60)  "
      ]
     },
     "execution_count": 317,
     "metadata": {},
     "output_type": "execute_result"
    }
   ],
   "source": [
    "df.head()"
   ]
  },
  {
   "cell_type": "code",
   "execution_count": null,
   "id": "cd54be26-e116-4363-873c-a6f516caebe0",
   "metadata": {},
   "outputs": [],
   "source": []
  },
  {
   "cell_type": "code",
   "execution_count": 318,
   "id": "4ec0e4f2-4714-49f7-8d14-1e15dcc0baba",
   "metadata": {},
   "outputs": [],
   "source": [
    "cols_to_scale = ['Age','Total_Usage_GB','Monthly_Bill','Subscription_Length_Months']\n",
    "\n",
    "from sklearn.preprocessing import MinMaxScaler\n",
    "scaler = MinMaxScaler()\n",
    "df[cols_to_scale] = scaler.fit_transform(df[cols_to_scale])"
   ]
  },
  {
   "cell_type": "code",
   "execution_count": 319,
   "id": "4b5b164f-5791-489f-8643-c8e0ef1c36da",
   "metadata": {},
   "outputs": [
    {
     "name": "stdout",
     "output_type": "stream",
     "text": [
      "            Age  Gender  Subscription_Length_Months  Monthly_Bill  \\\n",
      "0      0.865385       1                    0.695652      0.619429   \n",
      "1      0.846154       0                    0.000000      0.268000   \n",
      "2      0.115385       0                    0.173913      0.792429   \n",
      "3      0.346154       0                    0.086957      0.970571   \n",
      "4      0.538462       0                    0.782609      0.402000   \n",
      "...         ...     ...                         ...           ...   \n",
      "99995  0.288462       1                    0.956522      0.359000   \n",
      "99996  0.846154       0                    0.782609      0.452143   \n",
      "99997  0.884615       1                    0.695652      0.944429   \n",
      "99998  0.634615       0                    0.826087      0.275000   \n",
      "99999  0.173077       0                    0.782609      0.665286   \n",
      "\n",
      "       Total_Usage_GB  \n",
      "0            0.413333  \n",
      "1            0.271111  \n",
      "2            0.911111  \n",
      "3            0.548889  \n",
      "4            0.480000  \n",
      "...               ...  \n",
      "99995        0.391111  \n",
      "99996        0.668889  \n",
      "99997        0.446667  \n",
      "99998        0.853333  \n",
      "99999        0.273333  \n",
      "\n",
      "[100000 rows x 5 columns]\n"
     ]
    }
   ],
   "source": [
    "X = df.drop(['Churn', 'Subscription_Length_Bin', 'Monthly_Bill_Bin','Location_Houston','Location_Chicago','Location_Miami','Location_New York'], axis=1)\n",
    "print(X)"
   ]
  },
  {
   "cell_type": "code",
   "execution_count": 320,
   "id": "01782d26-92b3-4a70-96d7-b7a75693f7bc",
   "metadata": {},
   "outputs": [
    {
     "data": {
      "text/plain": [
       "0        0\n",
       "1        0\n",
       "2        0\n",
       "3        1\n",
       "4        0\n",
       "        ..\n",
       "99995    1\n",
       "99996    0\n",
       "99997    1\n",
       "99998    1\n",
       "99999    1\n",
       "Name: Churn, Length: 100000, dtype: int64"
      ]
     },
     "execution_count": 320,
     "metadata": {},
     "output_type": "execute_result"
    }
   ],
   "source": [
    "y=df['Churn']\n",
    "y"
   ]
  },
  {
   "cell_type": "code",
   "execution_count": null,
   "id": "035ccb8b-ee0b-4e84-a986-4dcd9cd27f97",
   "metadata": {},
   "outputs": [],
   "source": []
  },
  {
   "cell_type": "code",
   "execution_count": null,
   "id": "ab16dbdb-884d-4ab8-b9d2-de121f6bd7b8",
   "metadata": {},
   "outputs": [],
   "source": []
  },
  {
   "cell_type": "code",
   "execution_count": 321,
   "id": "1939299e-3d9f-478c-92fe-3501c3016168",
   "metadata": {},
   "outputs": [],
   "source": [
    "from sklearn.model_selection import train_test_split\n",
    "X_train, X_test, y_train, y_test = train_test_split(X,y,test_size=0.2,random_state=5)"
   ]
  },
  {
   "cell_type": "code",
   "execution_count": 322,
   "id": "e32110aa-1d0f-41a8-894a-efd85c35dc1f",
   "metadata": {},
   "outputs": [
    {
     "data": {
      "text/plain": [
       "(80000, 5)"
      ]
     },
     "execution_count": 322,
     "metadata": {},
     "output_type": "execute_result"
    }
   ],
   "source": [
    "X_train.shape"
   ]
  },
  {
   "cell_type": "code",
   "execution_count": 323,
   "id": "fe8d1d7e-1c12-4978-9850-72e593f2dee1",
   "metadata": {},
   "outputs": [
    {
     "data": {
      "text/plain": [
       "(20000, 5)"
      ]
     },
     "execution_count": 323,
     "metadata": {},
     "output_type": "execute_result"
    }
   ],
   "source": [
    "X_test.shape"
   ]
  },
  {
   "cell_type": "code",
   "execution_count": 324,
   "id": "0812474e-9e58-499a-80bd-a295c7b4198e",
   "metadata": {},
   "outputs": [
    {
     "data": {
      "text/html": [
       "<div>\n",
       "<style scoped>\n",
       "    .dataframe tbody tr th:only-of-type {\n",
       "        vertical-align: middle;\n",
       "    }\n",
       "\n",
       "    .dataframe tbody tr th {\n",
       "        vertical-align: top;\n",
       "    }\n",
       "\n",
       "    .dataframe thead th {\n",
       "        text-align: right;\n",
       "    }\n",
       "</style>\n",
       "<table border=\"1\" class=\"dataframe\">\n",
       "  <thead>\n",
       "    <tr style=\"text-align: right;\">\n",
       "      <th></th>\n",
       "      <th>Age</th>\n",
       "      <th>Gender</th>\n",
       "      <th>Subscription_Length_Months</th>\n",
       "      <th>Monthly_Bill</th>\n",
       "      <th>Total_Usage_GB</th>\n",
       "    </tr>\n",
       "  </thead>\n",
       "  <tbody>\n",
       "    <tr>\n",
       "      <th>46628</th>\n",
       "      <td>0.288462</td>\n",
       "      <td>1</td>\n",
       "      <td>0.652174</td>\n",
       "      <td>0.100571</td>\n",
       "      <td>0.264444</td>\n",
       "    </tr>\n",
       "    <tr>\n",
       "      <th>92846</th>\n",
       "      <td>0.442308</td>\n",
       "      <td>1</td>\n",
       "      <td>0.304348</td>\n",
       "      <td>0.797429</td>\n",
       "      <td>0.075556</td>\n",
       "    </tr>\n",
       "    <tr>\n",
       "      <th>30440</th>\n",
       "      <td>0.442308</td>\n",
       "      <td>0</td>\n",
       "      <td>0.565217</td>\n",
       "      <td>0.681429</td>\n",
       "      <td>0.771111</td>\n",
       "    </tr>\n",
       "    <tr>\n",
       "      <th>79978</th>\n",
       "      <td>0.076923</td>\n",
       "      <td>1</td>\n",
       "      <td>0.478261</td>\n",
       "      <td>0.547000</td>\n",
       "      <td>0.288889</td>\n",
       "    </tr>\n",
       "    <tr>\n",
       "      <th>85038</th>\n",
       "      <td>0.230769</td>\n",
       "      <td>1</td>\n",
       "      <td>0.739130</td>\n",
       "      <td>0.817857</td>\n",
       "      <td>1.000000</td>\n",
       "    </tr>\n",
       "  </tbody>\n",
       "</table>\n",
       "</div>"
      ],
      "text/plain": [
       "            Age  Gender  Subscription_Length_Months  Monthly_Bill  \\\n",
       "46628  0.288462       1                    0.652174      0.100571   \n",
       "92846  0.442308       1                    0.304348      0.797429   \n",
       "30440  0.442308       0                    0.565217      0.681429   \n",
       "79978  0.076923       1                    0.478261      0.547000   \n",
       "85038  0.230769       1                    0.739130      0.817857   \n",
       "\n",
       "       Total_Usage_GB  \n",
       "46628        0.264444  \n",
       "92846        0.075556  \n",
       "30440        0.771111  \n",
       "79978        0.288889  \n",
       "85038        1.000000  "
      ]
     },
     "execution_count": 324,
     "metadata": {},
     "output_type": "execute_result"
    }
   ],
   "source": [
    "X_train.head()"
   ]
  },
  {
   "cell_type": "code",
   "execution_count": 325,
   "id": "643f47d0-8ce5-45f7-a749-4a8bdb55f77b",
   "metadata": {},
   "outputs": [
    {
     "data": {
      "text/html": [
       "<div>\n",
       "<style scoped>\n",
       "    .dataframe tbody tr th:only-of-type {\n",
       "        vertical-align: middle;\n",
       "    }\n",
       "\n",
       "    .dataframe tbody tr th {\n",
       "        vertical-align: top;\n",
       "    }\n",
       "\n",
       "    .dataframe thead th {\n",
       "        text-align: right;\n",
       "    }\n",
       "</style>\n",
       "<table border=\"1\" class=\"dataframe\">\n",
       "  <thead>\n",
       "    <tr style=\"text-align: right;\">\n",
       "      <th></th>\n",
       "      <th>Age</th>\n",
       "      <th>Gender</th>\n",
       "      <th>Subscription_Length_Months</th>\n",
       "      <th>Monthly_Bill</th>\n",
       "      <th>Total_Usage_GB</th>\n",
       "    </tr>\n",
       "  </thead>\n",
       "  <tbody>\n",
       "    <tr>\n",
       "      <th>60743</th>\n",
       "      <td>0.173077</td>\n",
       "      <td>1</td>\n",
       "      <td>0.043478</td>\n",
       "      <td>0.426000</td>\n",
       "      <td>0.697778</td>\n",
       "    </tr>\n",
       "    <tr>\n",
       "      <th>33949</th>\n",
       "      <td>0.326923</td>\n",
       "      <td>1</td>\n",
       "      <td>0.869565</td>\n",
       "      <td>0.247857</td>\n",
       "      <td>0.826667</td>\n",
       "    </tr>\n",
       "    <tr>\n",
       "      <th>52805</th>\n",
       "      <td>0.865385</td>\n",
       "      <td>0</td>\n",
       "      <td>0.217391</td>\n",
       "      <td>0.941571</td>\n",
       "      <td>0.755556</td>\n",
       "    </tr>\n",
       "    <tr>\n",
       "      <th>11804</th>\n",
       "      <td>0.903846</td>\n",
       "      <td>1</td>\n",
       "      <td>0.652174</td>\n",
       "      <td>0.066143</td>\n",
       "      <td>0.020000</td>\n",
       "    </tr>\n",
       "    <tr>\n",
       "      <th>9229</th>\n",
       "      <td>0.519231</td>\n",
       "      <td>0</td>\n",
       "      <td>0.913043</td>\n",
       "      <td>0.904714</td>\n",
       "      <td>0.795556</td>\n",
       "    </tr>\n",
       "  </tbody>\n",
       "</table>\n",
       "</div>"
      ],
      "text/plain": [
       "            Age  Gender  Subscription_Length_Months  Monthly_Bill  \\\n",
       "60743  0.173077       1                    0.043478      0.426000   \n",
       "33949  0.326923       1                    0.869565      0.247857   \n",
       "52805  0.865385       0                    0.217391      0.941571   \n",
       "11804  0.903846       1                    0.652174      0.066143   \n",
       "9229   0.519231       0                    0.913043      0.904714   \n",
       "\n",
       "       Total_Usage_GB  \n",
       "60743        0.697778  \n",
       "33949        0.826667  \n",
       "52805        0.755556  \n",
       "11804        0.020000  \n",
       "9229         0.795556  "
      ]
     },
     "execution_count": 325,
     "metadata": {},
     "output_type": "execute_result"
    }
   ],
   "source": [
    "X_test.head()"
   ]
  },
  {
   "cell_type": "code",
   "execution_count": null,
   "id": "d06f67eb-6b59-48e9-b462-e5d2f7547627",
   "metadata": {},
   "outputs": [],
   "source": [
    "# LinearRegression"
   ]
  },
  {
   "cell_type": "code",
   "execution_count": null,
   "id": "85252c7a-19f8-4115-9243-e1e6e53f261c",
   "metadata": {},
   "outputs": [],
   "source": [
    "model = LinearRegression()\n",
    "model.fit(X_train, y_train)"
   ]
  },
  {
   "cell_type": "code",
   "execution_count": null,
   "id": "a01d720d-b13d-4b26-9efd-2f1363c2bc57",
   "metadata": {},
   "outputs": [],
   "source": [
    "y_pred = model.predict(X_test)\n"
   ]
  },
  {
   "cell_type": "code",
   "execution_count": null,
   "id": "99fbd001-68a0-4917-b26d-a4346b4944a9",
   "metadata": {},
   "outputs": [],
   "source": [
    "rmse = np.sqrt(mean_squared_error(y_test, y_pred))\n",
    "print(\"Root Mean Square Error (RMSE):\", rmse)\n"
   ]
  },
  {
   "cell_type": "code",
   "execution_count": 326,
   "id": "9545861f-8077-4b47-aa8d-8d9e30f34fd3",
   "metadata": {},
   "outputs": [],
   "source": [
    "#LogisticRegression"
   ]
  },
  {
   "cell_type": "code",
   "execution_count": 327,
   "id": "cc58bf10-eceb-4960-af80-4fe716493604",
   "metadata": {},
   "outputs": [
    {
     "name": "stdout",
     "output_type": "stream",
     "text": [
      "Logistic Regression Accuracy: 0.4965\n"
     ]
    }
   ],
   "source": [
    "from sklearn.linear_model import LogisticRegression\n",
    "\n",
    "# Create a Logistic Regression model\n",
    "model_lr = LogisticRegression(random_state=5)\n",
    "\n",
    "# Fit the model to the training data\n",
    "model_lr.fit(X_train, y_train)\n",
    "\n",
    "# Predict on the test data\n",
    "y_pred_lr = model_lr.predict(X_test)\n",
    "\n",
    "# Evaluate the model's accuracy\n",
    "accuracy_lr = model_lr.score(X_test, y_test)\n",
    "print(\"Logistic Regression Accuracy:\", accuracy_lr)\n"
   ]
  },
  {
   "cell_type": "code",
   "execution_count": 328,
   "id": "fe914852-9a5e-48bf-871a-ef9342df4a9e",
   "metadata": {},
   "outputs": [],
   "source": [
    "#svm "
   ]
  },
  {
   "cell_type": "code",
   "execution_count": null,
   "id": "da050121-451b-4933-a4d5-860f62af075a",
   "metadata": {},
   "outputs": [],
   "source": [
    "from sklearn.svm import SVC\n",
    "\n",
    "# Create an SVM model\n",
    "model_svm = SVC(random_state=5)\n",
    "\n",
    "# Fit the model to the training data\n",
    "model_svm.fit(X_train, y_train)\n",
    "\n",
    "# Predict on the test data\n",
    "y_pred_svm = model_svm.predict(X_test)\n",
    "\n",
    "# Evaluate the model's accuracy\n",
    "accuracy_svm = model_svm.score(X_test, y_test)\n",
    "print(\"SVM Accuracy:\", accuracy_svm)\n"
   ]
  },
  {
   "cell_type": "code",
   "execution_count": null,
   "id": "52aa2791-bea8-4b45-b6e6-299ab10dc918",
   "metadata": {},
   "outputs": [],
   "source": [
    "# Decision Tree Classifier"
   ]
  },
  {
   "cell_type": "code",
   "execution_count": null,
   "id": "c61ba367-de1d-44ec-a135-a7d3afc5c1e4",
   "metadata": {},
   "outputs": [],
   "source": [
    "model_dt = DecisionTreeClassifier(criterion=\"gini\", random_state=100, max_depth=6, min_samples_leaf=8)\n"
   ]
  },
  {
   "cell_type": "code",
   "execution_count": null,
   "id": "66e060ae-d40e-4d27-98e7-014355526458",
   "metadata": {},
   "outputs": [],
   "source": [
    "model_dt.fit(X_train,y_train)"
   ]
  },
  {
   "cell_type": "code",
   "execution_count": null,
   "id": "960448f7-556c-4427-bc1f-754f1db4fe43",
   "metadata": {},
   "outputs": [],
   "source": [
    "y_pred = model_dt.predict(X_test)"
   ]
  },
  {
   "cell_type": "code",
   "execution_count": null,
   "id": "95b51d5e-d30c-42a2-8165-93f7b4cf38ea",
   "metadata": {},
   "outputs": [],
   "source": [
    "model_dt.score(X_test,y_test)"
   ]
  },
  {
   "cell_type": "code",
   "execution_count": null,
   "id": "62b1d8fd-3194-41b1-9791-7e6657408bc4",
   "metadata": {},
   "outputs": [],
   "source": [
    "print(classification_report(y_test, y_pred, labels=[0,1]))"
   ]
  },
  {
   "cell_type": "code",
   "execution_count": null,
   "id": "7a194605-91cb-4add-855a-a795dbb3a67e",
   "metadata": {},
   "outputs": [],
   "source": []
  },
  {
   "cell_type": "code",
   "execution_count": null,
   "id": "f465bdcc-7cf8-4a49-8d0d-786af8432480",
   "metadata": {},
   "outputs": [],
   "source": [
    "from imblearn.combine import SMOTEENN\n",
    "\n",
    "# Initialize the SMOTEENN object\n",
    "smote_enn = SMOTEENN()\n",
    "\n",
    "# Fit and resample your data\n",
    "X_resampled, y_resampled = smote_enn.fit_resample(X, y)\n"
   ]
  },
  {
   "cell_type": "code",
   "execution_count": null,
   "id": "81925913-778a-4083-96f3-d488e10d1372",
   "metadata": {},
   "outputs": [],
   "source": [
    "xr_train,xr_test,yr_train,yr_test=train_test_split(X_resampled, y_resampled,test_size=0.2)"
   ]
  },
  {
   "cell_type": "code",
   "execution_count": null,
   "id": "84ce0b56-683d-4172-8b64-10eb12b612fb",
   "metadata": {},
   "outputs": [],
   "source": [
    "model_dt_smote=DecisionTreeClassifier(criterion = \"gini\",random_state = 100,max_depth=6, min_samples_leaf=8)"
   ]
  },
  {
   "cell_type": "code",
   "execution_count": null,
   "id": "fa9bdf09-ade0-4470-956f-38c8ad70c676",
   "metadata": {},
   "outputs": [],
   "source": [
    "model_dt_smote.fit(xr_train,yr_train)\n",
    "yr_predict = model_dt_smote.predict(xr_test)\n",
    "model_score_r = model_dt_smote.score(xr_test, yr_test)\n",
    "print(model_score_r)\n",
    "print(metrics.classification_report(yr_test, yr_predict))"
   ]
  },
  {
   "cell_type": "code",
   "execution_count": null,
   "id": "668bfa82-5c29-4f0a-8b8e-b292fb63b40f",
   "metadata": {},
   "outputs": [],
   "source": [
    "# Random Forest Classifier"
   ]
  },
  {
   "cell_type": "code",
   "execution_count": null,
   "id": "dffb64d7-1947-4689-8eda-9cd8a25e1143",
   "metadata": {},
   "outputs": [],
   "source": [
    "from sklearn.ensemble import RandomForestClassifier"
   ]
  },
  {
   "cell_type": "code",
   "execution_count": null,
   "id": "31988ac8-3483-4cec-bf6c-cf2b4b50b0ce",
   "metadata": {},
   "outputs": [],
   "source": [
    "model_rf=RandomForestClassifier( )"
   ]
  },
  {
   "cell_type": "code",
   "execution_count": null,
   "id": "f96835bd-b263-4fe9-8368-1fcb970a13b5",
   "metadata": {},
   "outputs": [],
   "source": [
    "model_rf.fit(X_train,y_train)"
   ]
  },
  {
   "cell_type": "code",
   "execution_count": null,
   "id": "a28f4bb9-49a8-49f7-853e-c95b6b62d51a",
   "metadata": {},
   "outputs": [],
   "source": [
    "y_pred=model_rf.predict(X_test)"
   ]
  },
  {
   "cell_type": "code",
   "execution_count": null,
   "id": "0b69fa7d-353b-4466-972b-58e2a11eb2d7",
   "metadata": {},
   "outputs": [],
   "source": [
    "model_rf.score(X_test,y_test)"
   ]
  },
  {
   "cell_type": "code",
   "execution_count": null,
   "id": "6463c8e3-8dbe-4fb1-a4fa-f113cc10edac",
   "metadata": {},
   "outputs": [],
   "source": [
    "print(classification_report(y_test, y_pred, labels=[0,1]))"
   ]
  },
  {
   "cell_type": "code",
   "execution_count": null,
   "id": "1e2ecb3d-2727-443a-8909-360e278ec045",
   "metadata": {},
   "outputs": [],
   "source": []
  },
  {
   "cell_type": "code",
   "execution_count": null,
   "id": "08067f4e-70bf-43d4-8758-e88a82b5da2a",
   "metadata": {},
   "outputs": [],
   "source": []
  },
  {
   "cell_type": "code",
   "execution_count": null,
   "id": "d1ab86a2-955f-41a8-a0ab-36ed315d2f9d",
   "metadata": {},
   "outputs": [],
   "source": []
  }
 ],
 "metadata": {
  "kernelspec": {
   "display_name": "virtual_env1_kernel",
   "language": "python",
   "name": "virtual_env1_kernel"
  },
  "language_info": {
   "codemirror_mode": {
    "name": "ipython",
    "version": 3
   },
   "file_extension": ".py",
   "mimetype": "text/x-python",
   "name": "python",
   "nbconvert_exporter": "python",
   "pygments_lexer": "ipython3",
   "version": "3.11.4"
  }
 },
 "nbformat": 4,
 "nbformat_minor": 5
}
